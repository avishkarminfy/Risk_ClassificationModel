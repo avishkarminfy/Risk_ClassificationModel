{
 "cells": [
  {
   "cell_type": "code",
   "execution_count": 11,
   "id": "bf7cc8d0-4ef5-4bc2-8075-c3a6660a2abe",
   "metadata": {},
   "outputs": [],
   "source": [
    "import pandas as pd\n",
    "import mlflow\n",
    "from evidently.report import Report\n",
    "from evidently.metric_preset import DataDriftPreset\n",
    "from evidently.metrics import ColumnDriftMetric"
   ]
  },
  {
   "cell_type": "code",
   "execution_count": 12,
   "id": "bd841239-e9e8-41b2-b929-c465b2b25ffc",
   "metadata": {},
   "outputs": [
    {
     "data": {
      "text/plain": [
       "<Experiment: artifact_location='file:///C:/Users/Minfy/Desktop/new_env1/mlruns/899666440591281272', creation_time=1751477739450, experiment_id='899666440591281272', last_update_time=1751477739450, lifecycle_stage='active', name='Drift Metrics Final', tags={}>"
      ]
     },
     "execution_count": 12,
     "metadata": {},
     "output_type": "execute_result"
    }
   ],
   "source": [
    "# Load datasets\n",
    "train_data = pd.read_csv(\"D:/test/bankfinal1.csv\").drop(columns=[\"Personal Loan\"])\n",
    "test_data = pd.read_csv(\"D:/test/New Customer Bank_Personal_Loan.csv\")  # 15-record new dataset\n",
    "\n",
    "# Set experiment\n",
    "mlflow.set_experiment(\"Drift Metrics Final\")"
   ]
  },
  {
   "cell_type": "code",
   "execution_count": 17,
   "id": "0709c346-e7e5-4141-a4e1-1d566ce1cf3b",
   "metadata": {},
   "outputs": [],
   "source": [
    "def log_data_drift_metrics(reference_df, current_df, run_name):\n",
    "    from evidently.report import Report\n",
    "    from evidently.metric_preset import DataDriftPreset\n",
    "    import mlflow\n",
    "\n",
    "    # Create and run the report\n",
    "    drift_report = Report(metrics=[DataDriftPreset()])\n",
    "    drift_report.run(reference_data=reference_df, current_data=current_df)\n",
    "\n",
    "    # Save report as HTML\n",
    "    drift_report.save_html(\"drift_report.html\")\n",
    "\n",
    "    # Get report as dict\n",
    "    report_dict = drift_report.as_dict()\n",
    "\n",
    "    # Start MLflow logging\n",
    "    mlflow.set_experiment(\"Evidently_Drift_Metrics\")\n",
    "    with mlflow.start_run(run_name=run_name):\n",
    "        # Log the HTML artifact\n",
    "        mlflow.log_artifact(\"drift_report.html\")\n",
    "\n",
    "        # Loop through the metrics to find drift table\n",
    "        for metric in report_dict[\"metrics\"]:\n",
    "            if metric.get(\"metric\") == \"DataDriftTable\":\n",
    "                result = metric[\"result\"]\n",
    "\n",
    "                # Log normalized drifted column count\n",
    "                n_drifted = result.get(\"number_of_drifted_columns\", 0)\n",
    "                n_total = result.get(\"number_of_columns\", 1)\n",
    "                drift_ratio = n_drifted / n_total\n",
    "                mlflow.log_metric(\"drifted_column_count\", drift_ratio)\n",
    "\n",
    "                # Log per-column drift score\n",
    "                for feature, stats in result[\"drift_by_columns\"].items():\n",
    "                    score = stats.get(\"drift_score\", 0)\n",
    "                    mlflow.log_metric(f\"drift_{feature}\", score)\n"
   ]
  },
  {
   "cell_type": "code",
   "execution_count": 18,
   "id": "75a2e2c6-96c9-46b1-94b8-a7180388587e",
   "metadata": {},
   "outputs": [],
   "source": [
    "# Load and split\n",
    "train_data = pd.read_csv(\"D:/test/bankfinal1.csv\").drop(columns=[\"Personal Loan\"])\n",
    "train_labels = pd.read_csv(\"D:/test/bankfinal1.csv\")[\"Personal Loan\"]\n",
    "from sklearn.model_selection import train_test_split\n",
    "X_train, X_test, y_train, y_test = train_test_split(train_data, train_labels, test_size=0.2, random_state=42)\n",
    "\n",
    "# Run 1: Train vs Test\n",
    "log_data_drift_metrics(reference_df=X_train, current_df=X_test, run_name=\"Train_vs_Test_DataDrift\")\n",
    "\n",
    "# Run 2: Historical vs New\n",
    "historical_df = pd.read_csv(\"D:/test/bankfinal1.csv\").drop(columns=[\"Personal Loan\"])\n",
    "new_df = pd.read_csv(\"D:/test/New Customer Bank_Personal_Loan.csv\")\n",
    "log_data_drift_metrics(reference_df=historical_df, current_df=new_df, run_name=\"Historical_vs_New_DataDrift\")\n"
   ]
  },
  {
   "cell_type": "code",
   "execution_count": null,
   "id": "93da06a2-3047-4fe8-8d88-7a1dcd790ebd",
   "metadata": {},
   "outputs": [],
   "source": []
  }
 ],
 "metadata": {
  "kernelspec": {
   "display_name": "Python (eda_env)",
   "language": "python",
   "name": "eda_env"
  },
  "language_info": {
   "codemirror_mode": {
    "name": "ipython",
    "version": 3
   },
   "file_extension": ".py",
   "mimetype": "text/x-python",
   "name": "python",
   "nbconvert_exporter": "python",
   "pygments_lexer": "ipython3",
   "version": "3.11.9"
  }
 },
 "nbformat": 4,
 "nbformat_minor": 5
}
